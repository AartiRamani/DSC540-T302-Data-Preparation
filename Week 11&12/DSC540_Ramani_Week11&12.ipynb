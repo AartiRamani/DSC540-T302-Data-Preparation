{
 "cells": [
  {
   "cell_type": "markdown",
   "id": "1945020c",
   "metadata": {},
   "source": [
    "# Activity 11: Retrieving Data Correctly From Databases"
   ]
  },
  {
   "cell_type": "markdown",
   "id": "30013d07",
   "metadata": {},
   "source": [
    "## 1. Connect to petsDB and check whether the connection has been successful."
   ]
  },
  {
   "cell_type": "code",
   "execution_count": 1,
   "id": "da75e310",
   "metadata": {},
   "outputs": [],
   "source": [
    "import sqlite3"
   ]
  },
  {
   "cell_type": "code",
   "execution_count": 2,
   "id": "6414d6ea",
   "metadata": {},
   "outputs": [],
   "source": [
    "con = sqlite3.connect(\"petsdb\")"
   ]
  },
  {
   "cell_type": "code",
   "execution_count": 3,
   "id": "7b7f042d",
   "metadata": {},
   "outputs": [
    {
     "name": "stdout",
     "output_type": "stream",
     "text": [
      "True\n"
     ]
    }
   ],
   "source": [
    "# Function to ensure a successful connection\n",
    "\n",
    "def is_opened(con):\n",
    "    try:\n",
    "        con.execute(\"SELECT * FROM persons LIMIT 1\")\n",
    "        return True\n",
    "    except sqlite3.ProgrammingError as err:\n",
    "        print('Connection closed : ', err)\n",
    "        return False\n",
    "\n",
    "print(is_opened(con))"
   ]
  },
  {
   "cell_type": "code",
   "execution_count": 4,
   "id": "2862afe5",
   "metadata": {},
   "outputs": [],
   "source": [
    "con.close()"
   ]
  },
  {
   "cell_type": "code",
   "execution_count": 5,
   "id": "eecd03cc",
   "metadata": {},
   "outputs": [
    {
     "name": "stdout",
     "output_type": "stream",
     "text": [
      "Connection closed :  Cannot operate on a closed database.\n",
      "False\n"
     ]
    }
   ],
   "source": [
    "print(is_opened(con))"
   ]
  },
  {
   "cell_type": "markdown",
   "id": "d00f9ac5",
   "metadata": {},
   "source": [
    "## 2. Find the different age groups in the persons database."
   ]
  },
  {
   "cell_type": "code",
   "execution_count": 6,
   "id": "a2910a24",
   "metadata": {},
   "outputs": [
    {
     "name": "stdout",
     "output_type": "stream",
     "text": [
      "(0, 'id', 'INTEGER', 0, None, 0)\n",
      "(1, 'first_name', 'TEXT', 0, None, 0)\n",
      "(2, 'last_name', 'TEXT', 0, None, 0)\n",
      "(3, 'age', 'INTEGER', 0, None, 0)\n",
      "(4, 'city', 'TEXT', 0, None, 0)\n",
      "(5, 'zip_code', 'INTEGER', 0, None, 0)\n"
     ]
    }
   ],
   "source": [
    "with sqlite3.connect('petsdb') as con: #Connect to the petsdb\n",
    "    cur = con.cursor()\n",
    "    rows= cur.execute(\"PRAGMA table_info([persons])\") #Get table info\n",
    "    for row in rows:\n",
    "        print(row)"
   ]
  },
  {
   "cell_type": "code",
   "execution_count": 7,
   "id": "20c06a56",
   "metadata": {},
   "outputs": [
    {
     "name": "stdout",
     "output_type": "stream",
     "text": [
      "AGE    COUNT \n",
      "---    -----\n",
      "5 \t 2\n",
      "6 \t 1\n",
      "7 \t 1\n",
      "8 \t 3\n",
      "9 \t 1\n",
      "11 \t 2\n",
      "12 \t 3\n",
      "13 \t 1\n",
      "14 \t 4\n",
      "16 \t 2\n",
      "17 \t 2\n",
      "18 \t 3\n",
      "19 \t 1\n",
      "22 \t 3\n",
      "23 \t 2\n",
      "24 \t 3\n",
      "25 \t 2\n",
      "27 \t 1\n",
      "30 \t 1\n",
      "31 \t 3\n",
      "32 \t 1\n",
      "33 \t 1\n",
      "34 \t 2\n",
      "35 \t 3\n",
      "36 \t 3\n",
      "37 \t 1\n",
      "39 \t 2\n",
      "40 \t 1\n",
      "42 \t 1\n",
      "44 \t 2\n",
      "48 \t 2\n",
      "49 \t 1\n",
      "50 \t 1\n",
      "51 \t 2\n",
      "52 \t 2\n",
      "53 \t 2\n",
      "54 \t 2\n",
      "58 \t 1\n",
      "59 \t 1\n",
      "60 \t 1\n",
      "61 \t 1\n",
      "62 \t 2\n",
      "63 \t 1\n",
      "65 \t 2\n",
      "66 \t 2\n",
      "67 \t 1\n",
      "68 \t 3\n",
      "69 \t 1\n",
      "70 \t 1\n",
      "71 \t 4\n",
      "72 \t 1\n",
      "73 \t 5\n",
      "74 \t 3\n"
     ]
    }
   ],
   "source": [
    "with sqlite3.connect('petsdb') as con:\n",
    "    cur = con.cursor()\n",
    "    rows= cur.execute(\"SELECT age, count(1) FROM persons GROUP BY age\")\n",
    "    print('AGE', '   COUNT', '\\n---   ', '-----')\n",
    "    for row in rows:\n",
    "        print(row[0], '\\t', row[1])"
   ]
  },
  {
   "cell_type": "markdown",
   "id": "07278457",
   "metadata": {},
   "source": [
    "## 3. Find the age group that has the maximum number of people."
   ]
  },
  {
   "cell_type": "code",
   "execution_count": 8,
   "id": "57a18b4f",
   "metadata": {},
   "outputs": [
    {
     "name": "stdout",
     "output_type": "stream",
     "text": [
      "We have 5 people aged 73\n"
     ]
    }
   ],
   "source": [
    "for age, people in cur.execute(\"SELECT age, count(1) FROM persons GROUP BY age ORDER BY count(1) DESC LIMIT 1\"): #Get the top row\n",
    "    print(\"We have {} people aged {}\".format(people, age))"
   ]
  },
  {
   "cell_type": "markdown",
   "id": "a1a76a24",
   "metadata": {},
   "source": [
    "## 4. Find the people who do not have a last name."
   ]
  },
  {
   "cell_type": "code",
   "execution_count": 9,
   "id": "51993de3",
   "metadata": {},
   "outputs": [
    {
     "name": "stdout",
     "output_type": "stream",
     "text": [
      "60\n"
     ]
    }
   ],
   "source": [
    "rows= cur.execute(\"select * from persons where last_name is null\")\n",
    "print(len(cur.fetchall()))\n"
   ]
  },
  {
   "cell_type": "markdown",
   "id": "3d39cdc0",
   "metadata": {},
   "source": [
    "## 5. Find out how many people have more than one pet."
   ]
  },
  {
   "cell_type": "code",
   "execution_count": 10,
   "id": "114283d5",
   "metadata": {},
   "outputs": [
    {
     "name": "stdout",
     "output_type": "stream",
     "text": [
      "60\n"
     ]
    }
   ],
   "source": [
    "rows= cur.execute(\"select count(1) from (select * from persons where last_name is null)\")\n",
    "#print(len(cur.fetchall()))\n",
    "for count in rows:\n",
    "    print(count[0])"
   ]
  },
  {
   "cell_type": "markdown",
   "id": "614f06e8",
   "metadata": {},
   "source": [
    "## 6. Find out how many pets have received treatment."
   ]
  },
  {
   "cell_type": "code",
   "execution_count": 11,
   "id": "f9b4b740",
   "metadata": {},
   "outputs": [
    {
     "name": "stdout",
     "output_type": "stream",
     "text": [
      "(0, 'owner_id', 'INTEGER', 0, None, 0)\n",
      "(1, 'pet_name', 'TEXT', 0, None, 0)\n",
      "(2, 'pet_type', 'REAL', 0, None, 0)\n",
      "(3, 'treatment_done', 'INTEGER', 0, None, 0)\n"
     ]
    }
   ],
   "source": [
    "#Understand the table fields\n",
    "rows= cur.execute(\"PRAGMA table_info([pets])\")\n",
    "for row in rows:\n",
    "    print(row)"
   ]
  },
  {
   "cell_type": "code",
   "execution_count": 12,
   "id": "025c2ca6",
   "metadata": {},
   "outputs": [
    {
     "name": "stdout",
     "output_type": "stream",
     "text": [
      "0   114\n",
      "1   36\n"
     ]
    }
   ],
   "source": [
    "#Check the different values for treatment_done\n",
    "rows= cur.execute(\"select treatment_done, count(1) from pets group by treatment_done\")\n",
    "for treatment, count in rows:\n",
    "    print(treatment , ' ' , count)"
   ]
  },
  {
   "cell_type": "code",
   "execution_count": 13,
   "id": "9f0bc2a4",
   "metadata": {},
   "outputs": [
    {
     "name": "stdout",
     "output_type": "stream",
     "text": [
      "Number of pets that received treatment = 36\n"
     ]
    }
   ],
   "source": [
    "#Get the number of pets that received treatment\n",
    "rows= cur.execute(\"select count(1) from pets where treatment_done = 1\")\n",
    "for count in rows:\n",
    "    print(\"Number of pets that received treatment = {}\".format(count[0]))"
   ]
  },
  {
   "cell_type": "markdown",
   "id": "8dd1b581",
   "metadata": {},
   "source": [
    "## 7. Find out how many pets have received treatment and the type of pet is known."
   ]
  },
  {
   "cell_type": "code",
   "execution_count": 14,
   "id": "f47e1ae0",
   "metadata": {},
   "outputs": [
    {
     "name": "stdout",
     "output_type": "stream",
     "text": [
      "None   82\n",
      "1.0   68\n"
     ]
    }
   ],
   "source": [
    "#Check the different values for pet_type\n",
    "rows= cur.execute(\"select pet_type, count(1) from pets group by pet_type\")\n",
    "for pet_type, count in rows:\n",
    "    print(pet_type , ' ' , count)"
   ]
  },
  {
   "cell_type": "code",
   "execution_count": 15,
   "id": "1071aa94",
   "metadata": {},
   "outputs": [
    {
     "name": "stdout",
     "output_type": "stream",
     "text": [
      "There are 16 pets which received treatment and the type of pet is known\n"
     ]
    }
   ],
   "source": [
    "#Get the number of pets that received treatment whose type is known\n",
    "rows= cur.execute(\"select count(1) from pets where treatment_done = 1 and pet_type = 1\")\n",
    "for count in rows:\n",
    "    print(\"There are {} pets which received treatment and the type of pet is known\".format(count[0]))"
   ]
  },
  {
   "cell_type": "markdown",
   "id": "67d82be0",
   "metadata": {},
   "source": [
    "## 8. Find out how many pets are from the city called east port."
   ]
  },
  {
   "cell_type": "code",
   "execution_count": 16,
   "id": "2c55f4c6",
   "metadata": {},
   "outputs": [
    {
     "name": "stdout",
     "output_type": "stream",
     "text": [
      "There are 49 pets from the city east port\n"
     ]
    }
   ],
   "source": [
    "rows= cur.execute(\"select count(a.owner_id) from pets as a inner join persons as b on a.owner_id = b.id where lower(b.city) = 'east port' \")\n",
    "for count in rows:\n",
    "    print(\"There are {} pets from the city east port\".format(count[0]))"
   ]
  },
  {
   "cell_type": "markdown",
   "id": "c34de48c",
   "metadata": {},
   "source": [
    "## 9. Find out how many pets are from the city called east port and who received a treatment."
   ]
  },
  {
   "cell_type": "code",
   "execution_count": 17,
   "id": "454e417d",
   "metadata": {},
   "outputs": [
    {
     "name": "stdout",
     "output_type": "stream",
     "text": [
      "There are 11 pets from the city east port that received treatment\n"
     ]
    }
   ],
   "source": [
    "rows= cur.execute(\"select count(a.owner_id) from pets as a inner join persons as b on a.owner_id = b.id where lower(b.city) = 'east port' and a.treatment_done=1\")\n",
    "for count in rows:\n",
    "    print(\"There are {} pets from the city east port that received treatment\".format(count[0]))"
   ]
  }
 ],
 "metadata": {
  "kernelspec": {
   "display_name": "Python 3 (ipykernel)",
   "language": "python",
   "name": "python3"
  },
  "language_info": {
   "codemirror_mode": {
    "name": "ipython",
    "version": 3
   },
   "file_extension": ".py",
   "mimetype": "text/x-python",
   "name": "python",
   "nbconvert_exporter": "python",
   "pygments_lexer": "ipython3",
   "version": "3.9.16"
  }
 },
 "nbformat": 4,
 "nbformat_minor": 5
}
